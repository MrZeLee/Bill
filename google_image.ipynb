{
 "cells": [
  {
   "cell_type": "code",
   "execution_count": 7,
   "metadata": {},
   "outputs": [
    {
     "name": "stdout",
     "output_type": "stream",
     "text": [
      "Requirement already satisfied: google in ./env/lib/python3.9/site-packages (3.0.0)\n",
      "Requirement already satisfied: beautifulsoup4 in ./env/lib/python3.9/site-packages (from google) (4.12.2)\n",
      "Requirement already satisfied: soupsieve>1.2 in ./env/lib/python3.9/site-packages (from beautifulsoup4->google) (2.4.1)\n",
      "Requirement already satisfied: google-cloud-vision in ./env/lib/python3.9/site-packages (3.4.1)\n",
      "Requirement already satisfied: google-api-core[grpc]!=2.0.*,!=2.1.*,!=2.10.*,!=2.2.*,!=2.3.*,!=2.4.*,!=2.5.*,!=2.6.*,!=2.7.*,!=2.8.*,!=2.9.*,<3.0.0dev,>=1.34.0 in ./env/lib/python3.9/site-packages (from google-cloud-vision) (2.11.0)\n",
      "Requirement already satisfied: proto-plus<2.0.0dev,>=1.22.0 in ./env/lib/python3.9/site-packages (from google-cloud-vision) (1.22.2)\n",
      "Requirement already satisfied: protobuf!=3.20.0,!=3.20.1,!=4.21.0,!=4.21.1,!=4.21.2,!=4.21.3,!=4.21.4,!=4.21.5,<5.0.0dev,>=3.19.5 in ./env/lib/python3.9/site-packages (from google-cloud-vision) (4.23.0)\n",
      "Requirement already satisfied: googleapis-common-protos<2.0dev,>=1.56.2 in ./env/lib/python3.9/site-packages (from google-api-core[grpc]!=2.0.*,!=2.1.*,!=2.10.*,!=2.2.*,!=2.3.*,!=2.4.*,!=2.5.*,!=2.6.*,!=2.7.*,!=2.8.*,!=2.9.*,<3.0.0dev,>=1.34.0->google-cloud-vision) (1.59.0)\n",
      "Requirement already satisfied: google-auth<3.0dev,>=2.14.1 in ./env/lib/python3.9/site-packages (from google-api-core[grpc]!=2.0.*,!=2.1.*,!=2.10.*,!=2.2.*,!=2.3.*,!=2.4.*,!=2.5.*,!=2.6.*,!=2.7.*,!=2.8.*,!=2.9.*,<3.0.0dev,>=1.34.0->google-cloud-vision) (2.18.0)\n",
      "Requirement already satisfied: requests<3.0.0dev,>=2.18.0 in ./env/lib/python3.9/site-packages (from google-api-core[grpc]!=2.0.*,!=2.1.*,!=2.10.*,!=2.2.*,!=2.3.*,!=2.4.*,!=2.5.*,!=2.6.*,!=2.7.*,!=2.8.*,!=2.9.*,<3.0.0dev,>=1.34.0->google-cloud-vision) (2.30.0)\n",
      "Requirement already satisfied: grpcio<2.0dev,>=1.33.2 in ./env/lib/python3.9/site-packages (from google-api-core[grpc]!=2.0.*,!=2.1.*,!=2.10.*,!=2.2.*,!=2.3.*,!=2.4.*,!=2.5.*,!=2.6.*,!=2.7.*,!=2.8.*,!=2.9.*,<3.0.0dev,>=1.34.0->google-cloud-vision) (1.54.2)\n",
      "Requirement already satisfied: grpcio-status<2.0dev,>=1.33.2 in ./env/lib/python3.9/site-packages (from google-api-core[grpc]!=2.0.*,!=2.1.*,!=2.10.*,!=2.2.*,!=2.3.*,!=2.4.*,!=2.5.*,!=2.6.*,!=2.7.*,!=2.8.*,!=2.9.*,<3.0.0dev,>=1.34.0->google-cloud-vision) (1.54.2)\n",
      "Requirement already satisfied: cachetools<6.0,>=2.0.0 in ./env/lib/python3.9/site-packages (from google-auth<3.0dev,>=2.14.1->google-api-core[grpc]!=2.0.*,!=2.1.*,!=2.10.*,!=2.2.*,!=2.3.*,!=2.4.*,!=2.5.*,!=2.6.*,!=2.7.*,!=2.8.*,!=2.9.*,<3.0.0dev,>=1.34.0->google-cloud-vision) (5.3.0)\n",
      "Requirement already satisfied: pyasn1-modules>=0.2.1 in ./env/lib/python3.9/site-packages (from google-auth<3.0dev,>=2.14.1->google-api-core[grpc]!=2.0.*,!=2.1.*,!=2.10.*,!=2.2.*,!=2.3.*,!=2.4.*,!=2.5.*,!=2.6.*,!=2.7.*,!=2.8.*,!=2.9.*,<3.0.0dev,>=1.34.0->google-cloud-vision) (0.3.0)\n",
      "Requirement already satisfied: six>=1.9.0 in ./env/lib/python3.9/site-packages (from google-auth<3.0dev,>=2.14.1->google-api-core[grpc]!=2.0.*,!=2.1.*,!=2.10.*,!=2.2.*,!=2.3.*,!=2.4.*,!=2.5.*,!=2.6.*,!=2.7.*,!=2.8.*,!=2.9.*,<3.0.0dev,>=1.34.0->google-cloud-vision) (1.16.0)\n",
      "Requirement already satisfied: urllib3<2.0 in ./env/lib/python3.9/site-packages (from google-auth<3.0dev,>=2.14.1->google-api-core[grpc]!=2.0.*,!=2.1.*,!=2.10.*,!=2.2.*,!=2.3.*,!=2.4.*,!=2.5.*,!=2.6.*,!=2.7.*,!=2.8.*,!=2.9.*,<3.0.0dev,>=1.34.0->google-cloud-vision) (1.26.15)\n",
      "Requirement already satisfied: rsa<5,>=3.1.4 in ./env/lib/python3.9/site-packages (from google-auth<3.0dev,>=2.14.1->google-api-core[grpc]!=2.0.*,!=2.1.*,!=2.10.*,!=2.2.*,!=2.3.*,!=2.4.*,!=2.5.*,!=2.6.*,!=2.7.*,!=2.8.*,!=2.9.*,<3.0.0dev,>=1.34.0->google-cloud-vision) (4.9)\n",
      "Requirement already satisfied: charset-normalizer<4,>=2 in ./env/lib/python3.9/site-packages (from requests<3.0.0dev,>=2.18.0->google-api-core[grpc]!=2.0.*,!=2.1.*,!=2.10.*,!=2.2.*,!=2.3.*,!=2.4.*,!=2.5.*,!=2.6.*,!=2.7.*,!=2.8.*,!=2.9.*,<3.0.0dev,>=1.34.0->google-cloud-vision) (3.1.0)\n",
      "Requirement already satisfied: idna<4,>=2.5 in ./env/lib/python3.9/site-packages (from requests<3.0.0dev,>=2.18.0->google-api-core[grpc]!=2.0.*,!=2.1.*,!=2.10.*,!=2.2.*,!=2.3.*,!=2.4.*,!=2.5.*,!=2.6.*,!=2.7.*,!=2.8.*,!=2.9.*,<3.0.0dev,>=1.34.0->google-cloud-vision) (3.4)\n",
      "Requirement already satisfied: certifi>=2017.4.17 in ./env/lib/python3.9/site-packages (from requests<3.0.0dev,>=2.18.0->google-api-core[grpc]!=2.0.*,!=2.1.*,!=2.10.*,!=2.2.*,!=2.3.*,!=2.4.*,!=2.5.*,!=2.6.*,!=2.7.*,!=2.8.*,!=2.9.*,<3.0.0dev,>=1.34.0->google-cloud-vision) (2023.5.7)\n",
      "Requirement already satisfied: pyasn1<0.6.0,>=0.4.6 in ./env/lib/python3.9/site-packages (from pyasn1-modules>=0.2.1->google-auth<3.0dev,>=2.14.1->google-api-core[grpc]!=2.0.*,!=2.1.*,!=2.10.*,!=2.2.*,!=2.3.*,!=2.4.*,!=2.5.*,!=2.6.*,!=2.7.*,!=2.8.*,!=2.9.*,<3.0.0dev,>=1.34.0->google-cloud-vision) (0.5.0)\n",
      "[sudo] password for josel: \n"
     ]
    }
   ],
   "source": [
    "!pip install google\n",
    "!pip install --upgrade google-cloud-vision"
   ]
  },
  {
   "cell_type": "code",
   "execution_count": 55,
   "metadata": {},
   "outputs": [],
   "source": [
    "def detect_text(path):\n",
    "    \"\"\"Detects text in the file.\"\"\"\n",
    "    from google.cloud import vision\n",
    "    import io\n",
    "    client = vision.ImageAnnotatorClient()\n",
    "\n",
    "    with io.open(path, 'rb') as image_file:\n",
    "        content = image_file.read()\n",
    "\n",
    "    image = vision.Image(content=content)\n",
    "\n",
    "    response = client.text_detection(image=image)\n",
    "    # texts = response.text_annotations\n",
    "    # print('Texts:')\n",
    "\n",
    "    # for text in texts:\n",
    "    #     print('\\n\"{}\"'.format(text.description))\n",
    "\n",
    "    #     vertices = (['({},{})'.format(vertex.x, vertex.y)\n",
    "    #                 for vertex in text.bounding_poly.vertices])\n",
    "\n",
    "    #     print('bounds: {}'.format(','.join(vertices)))\n",
    "\n",
    "    if response.error.message:\n",
    "        raise Exception(\n",
    "            '{}\\nFor more info on error messages, check: '\n",
    "            'https://cloud.google.com/apis/design/errors'.format(\n",
    "                response.error.message))\n",
    "    else:\n",
    "        return response"
   ]
  },
  {
   "cell_type": "code",
   "execution_count": 47,
   "metadata": {},
   "outputs": [
    {
     "name": "stdout",
     "output_type": "stream",
     "text": [
      "Texts:\n",
      "\n",
      "\"Qual destas grandes invenções é mais antiga?\n",
      "A Microscópio\n",
      "B Óculos\n",
      "C Telescópio\n",
      "D Computador portátil\n",
      "E Clepsidra\"\n",
      "bounds: (11,24),(513,24),(513,357),(11,357)\n",
      "\n",
      "\"Qual\"\n",
      "bounds: (28,24),(77,24),(77,49),(28,49)\n",
      "\n",
      "\"destas\"\n",
      "bounds: (83,24),(151,24),(151,49),(83,49)\n",
      "\n",
      "\"grandes\"\n",
      "bounds: (158,24),(241,24),(241,49),(158,49)\n",
      "\n",
      "\"invenções\"\n",
      "bounds: (251,24),(353,24),(353,49),(251,49)\n",
      "\n",
      "\"é\"\n",
      "bounds: (363,24),(372,24),(372,49),(363,49)\n",
      "\n",
      "\"mais\"\n",
      "bounds: (382,24),(428,24),(428,49),(382,49)\n",
      "\n",
      "\"antiga\"\n",
      "bounds: (438,24),(501,24),(501,49),(438,49)\n",
      "\n",
      "\"?\"\n",
      "bounds: (501,24),(513,24),(513,49),(501,49)\n",
      "\n",
      "\"A\"\n",
      "bounds: (15,103),(37,103),(37,126),(15,126)\n",
      "\n",
      "\"Microscópio\"\n",
      "bounds: (63,103),(192,104),(192,127),(63,126)\n",
      "\n",
      "\"B\"\n",
      "bounds: (16,153),(39,154),(38,179),(15,178)\n",
      "\n",
      "\"Óculos\"\n",
      "bounds: (62,154),(138,156),(137,181),(61,179)\n",
      "\n",
      "\"C\"\n",
      "bounds: (16,216),(36,216),(36,239),(16,239)\n",
      "\n",
      "\"Telescópio\"\n",
      "bounds: (63,215),(173,216),(173,240),(63,239)\n",
      "\n",
      "\"D\"\n",
      "bounds: (17,274),(35,274),(35,298),(17,298)\n",
      "\n",
      "\"Computador\"\n",
      "bounds: (62,273),(195,274),(195,299),(62,298)\n",
      "\n",
      "\"portátil\"\n",
      "bounds: (202,275),(274,275),(274,299),(202,299)\n",
      "\n",
      "\"E\"\n",
      "bounds: (19,329),(35,329),(34,352),(18,352)\n",
      "\n",
      "\"Clepsidra\"\n",
      "bounds: (63,329),(163,331),(162,355),(62,353)\n"
     ]
    }
   ],
   "source": [
    "response = detect_text(\"/home/josel/Git/Bill/SCR-20230516-sdja.png\")"
   ]
  },
  {
   "cell_type": "code",
   "execution_count": 50,
   "metadata": {},
   "outputs": [
    {
     "name": "stdout",
     "output_type": "stream",
     "text": [
      "Qual destas grandes invenções é mais antiga?\n",
      "A Microscópio\n",
      "B Óculos\n",
      "C Telescópio\n",
      "D Computador portátil\n",
      "E Clepsidra\n",
      "Por favor responde apenas com uma letra.\n"
     ]
    }
   ],
   "source": [
    "res = str(response.text_annotations[0].description).splitlines()\n",
    "\n",
    "res = list(map(lambda x: x.strip(),res))\n",
    "\n",
    "char = list(map(lambda x: x[0],res))\n",
    "\n",
    "res.append('Por favor responde apenas com uma letra.')\n",
    "\n",
    "res = '\\n'.join(res)\n",
    "\n",
    "print(res)"
   ]
  },
  {
   "cell_type": "code",
   "execution_count": 56,
   "metadata": {},
   "outputs": [],
   "source": [
    "import os\n",
    "import openai\n",
    "\n",
    "openai.api_key=\"\"\n",
    "\n",
    "def pergunta(text):\n",
    "\n",
    "    completion = openai.ChatCompletion.create(\n",
    "    model=\"gpt-3.5-turbo\",\n",
    "    messages=[\n",
    "        {\"role\": \"user\", \"content\": text}\n",
    "    ]\n",
    "    )\n",
    "\n",
    "    return completion.choices[0].message.content"
   ]
  },
  {
   "cell_type": "code",
   "execution_count": null,
   "metadata": {},
   "outputs": [],
   "source": [
    "print(pergunta(res))"
   ]
  },
  {
   "cell_type": "code",
   "execution_count": 53,
   "metadata": {},
   "outputs": [],
   "source": [
    "def resposta(image):\n",
    "    response = detect_text(image)\n",
    "    res = str(response.text_annotations[0].description).splitlines()\n",
    "    res = list(map(lambda x: x.strip(),res))\n",
    "    res.append('Por favor responde apenas com uma letra.')\n",
    "\n",
    "    res = '\\n'.join(res)\n",
    "\n",
    "    return pergunta(res)"
   ]
  },
  {
   "cell_type": "code",
   "execution_count": 54,
   "metadata": {},
   "outputs": [
    {
     "name": "stdout",
     "output_type": "stream",
     "text": [
      "Texts:\n",
      "\n",
      "\"Qual destes objetos está ligado ao direito e à justiça?\n",
      "A Gadanha\n",
      "B Balança\n",
      "C Bastão de Esculápio\n",
      "D Bigorna\n",
      "E\n",
      "Torno\"\n",
      "bounds: (11,27),(586,27),(586,358),(11,358)\n",
      "\n",
      "\"Qual\"\n",
      "bounds: (27,28),(75,28),(75,53),(27,53)\n",
      "\n",
      "\"destes\"\n",
      "bounds: (81,28),(149,28),(149,53),(81,53)\n",
      "\n",
      "\"objetos\"\n",
      "bounds: (157,28),(231,28),(231,53),(157,53)\n",
      "\n",
      "\"está\"\n",
      "bounds: (241,28),(282,28),(282,54),(241,54)\n",
      "\n",
      "\"ligado\"\n",
      "bounds: (291,29),(353,29),(353,54),(291,54)\n",
      "\n",
      "\"ao\"\n",
      "bounds: (362,29),(385,29),(385,54),(362,54)\n",
      "\n",
      "\"direito\"\n",
      "bounds: (394,29),(458,29),(458,54),(394,54)\n",
      "\n",
      "\"e\"\n",
      "bounds: (468,29),(476,29),(476,54),(468,54)\n",
      "\n",
      "\"à\"\n",
      "bounds: (487,29),(496,29),(496,54),(487,54)\n",
      "\n",
      "\"justiça\"\n",
      "bounds: (504,29),(572,29),(572,55),(504,55)\n",
      "\n",
      "\"?\"\n",
      "bounds: (574,30),(586,30),(586,55),(574,55)\n",
      "\n",
      "\"A\"\n",
      "bounds: (14,109),(39,109),(39,131),(14,131)\n",
      "\n",
      "\"Gadanha\"\n",
      "bounds: (62,109),(154,109),(154,131),(62,131)\n",
      "\n",
      "\"B\"\n",
      "bounds: (16,165),(35,165),(35,188),(16,188)\n",
      "\n",
      "\"Balança\"\n",
      "bounds: (63,165),(145,166),(145,190),(63,189)\n",
      "\n",
      "\"C\"\n",
      "bounds: (14,221),(35,221),(35,246),(14,246)\n",
      "\n",
      "\"Bastão\"\n",
      "bounds: (62,221),(134,221),(134,246),(62,246)\n",
      "\n",
      "\"de\"\n",
      "bounds: (140,221),(165,221),(165,246),(140,246)\n",
      "\n",
      "\"Esculápio\"\n",
      "bounds: (173,221),(273,221),(273,247),(173,247)\n",
      "\n",
      "\"D\"\n",
      "bounds: (16,280),(35,280),(34,301),(15,301)\n",
      "\n",
      "\"Bigorna\"\n",
      "bounds: (62,280),(144,282),(143,304),(61,302)\n",
      "\n",
      "\"E\"\n",
      "bounds: (19,336),(33,336),(33,355),(19,355)\n",
      "\n",
      "\"Torno\"\n",
      "bounds: (61,336),(122,337),(122,357),(61,356)\n"
     ]
    },
    {
     "data": {
      "text/plain": [
       "<OpenAIObject at 0x7fdb001c7ae0> JSON: {\n",
       "  \"content\": \"B\",\n",
       "  \"role\": \"assistant\"\n",
       "}"
      ]
     },
     "execution_count": 54,
     "metadata": {},
     "output_type": "execute_result"
    }
   ],
   "source": [
    "resposta(\"SCR-20230516-shrv.png\")"
   ]
  },
  {
   "cell_type": "code",
   "execution_count": null,
   "metadata": {},
   "outputs": [],
   "source": [
    "import os\n",
    "import glob\n",
    "\n",
    "# specify your path here\n",
    "path = ''\n",
    "\n",
    "# find all .png files in the specified directory\n",
    "png_files = glob.glob(os.path.join(path, \"*.png\"))\n",
    "\n",
    "# get the most recent file\n",
    "latest_file = max(png_files, key=os.path.getmtime)\n",
    "\n",
    "print(latest_file)\n"
   ]
  }
 ],
 "metadata": {
  "kernelspec": {
   "display_name": "env",
   "language": "python",
   "name": "python3"
  },
  "language_info": {
   "codemirror_mode": {
    "name": "ipython",
    "version": 3
   },
   "file_extension": ".py",
   "mimetype": "text/x-python",
   "name": "python",
   "nbconvert_exporter": "python",
   "pygments_lexer": "ipython3",
   "version": "3.9.5"
  },
  "orig_nbformat": 4
 },
 "nbformat": 4,
 "nbformat_minor": 2
}
